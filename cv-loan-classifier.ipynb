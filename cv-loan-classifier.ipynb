{
 "cells": [
  {
   "cell_type": "code",
   "execution_count": 1,
   "id": "a998b22e",
   "metadata": {
    "_cell_guid": "351fb39b-719d-4451-9595-66d4267b690e",
    "_uuid": "d4640860-eca5-4681-91a2-48c663ed60ec",
    "collapsed": false,
    "execution": {
     "iopub.execute_input": "2024-06-16T16:32:00.937968Z",
     "iopub.status.busy": "2024-06-16T16:32:00.937169Z",
     "iopub.status.idle": "2024-06-16T16:32:01.877067Z",
     "shell.execute_reply": "2024-06-16T16:32:01.875892Z"
    },
    "jupyter": {
     "outputs_hidden": false
    },
    "papermill": {
     "duration": 0.9496,
     "end_time": "2024-06-16T16:32:01.879921",
     "exception": false,
     "start_time": "2024-06-16T16:32:00.930321",
     "status": "completed"
    },
    "tags": []
   },
   "outputs": [],
   "source": [
    "import numpy as np\n",
    "import pandas as pd"
   ]
  },
  {
   "cell_type": "code",
   "execution_count": 2,
   "id": "8c7766ef",
   "metadata": {
    "collapsed": true,
    "execution": {
     "iopub.execute_input": "2024-06-16T16:32:01.891106Z",
     "iopub.status.busy": "2024-06-16T16:32:01.890602Z",
     "iopub.status.idle": "2024-06-16T16:32:09.580101Z",
     "shell.execute_reply": "2024-06-16T16:32:09.578802Z"
    },
    "jupyter": {
     "outputs_hidden": true
    },
    "papermill": {
     "duration": 7.697898,
     "end_time": "2024-06-16T16:32:09.582676",
     "exception": false,
     "start_time": "2024-06-16T16:32:01.884778",
     "status": "completed"
    },
    "tags": []
   },
   "outputs": [
    {
     "name": "stderr",
     "output_type": "stream",
     "text": [
      "/tmp/ipykernel_17/3663163007.py:1: DtypeWarning: Columns (9) have mixed types. Specify dtype option on import or set low_memory=False.\n",
      "  df = pd.read_csv('/kaggle/input/should-this-loan-be-approved-or-denied/SBAnational.csv')\n"
     ]
    },
    {
     "data": {
      "text/html": [
       "<div>\n",
       "<style scoped>\n",
       "    .dataframe tbody tr th:only-of-type {\n",
       "        vertical-align: middle;\n",
       "    }\n",
       "\n",
       "    .dataframe tbody tr th {\n",
       "        vertical-align: top;\n",
       "    }\n",
       "\n",
       "    .dataframe thead th {\n",
       "        text-align: right;\n",
       "    }\n",
       "</style>\n",
       "<table border=\"1\" class=\"dataframe\">\n",
       "  <thead>\n",
       "    <tr style=\"text-align: right;\">\n",
       "      <th></th>\n",
       "      <th>LoanNr_ChkDgt</th>\n",
       "      <th>Name</th>\n",
       "      <th>City</th>\n",
       "      <th>State</th>\n",
       "      <th>Zip</th>\n",
       "      <th>Bank</th>\n",
       "      <th>BankState</th>\n",
       "      <th>NAICS</th>\n",
       "      <th>ApprovalDate</th>\n",
       "      <th>ApprovalFY</th>\n",
       "      <th>...</th>\n",
       "      <th>RevLineCr</th>\n",
       "      <th>LowDoc</th>\n",
       "      <th>ChgOffDate</th>\n",
       "      <th>DisbursementDate</th>\n",
       "      <th>DisbursementGross</th>\n",
       "      <th>BalanceGross</th>\n",
       "      <th>MIS_Status</th>\n",
       "      <th>ChgOffPrinGr</th>\n",
       "      <th>GrAppv</th>\n",
       "      <th>SBA_Appv</th>\n",
       "    </tr>\n",
       "  </thead>\n",
       "  <tbody>\n",
       "    <tr>\n",
       "      <th>0</th>\n",
       "      <td>1000014003</td>\n",
       "      <td>ABC HOBBYCRAFT</td>\n",
       "      <td>EVANSVILLE</td>\n",
       "      <td>IN</td>\n",
       "      <td>47711</td>\n",
       "      <td>FIFTH THIRD BANK</td>\n",
       "      <td>OH</td>\n",
       "      <td>451120</td>\n",
       "      <td>28-Feb-97</td>\n",
       "      <td>1997</td>\n",
       "      <td>...</td>\n",
       "      <td>N</td>\n",
       "      <td>Y</td>\n",
       "      <td>NaN</td>\n",
       "      <td>28-Feb-99</td>\n",
       "      <td>$60,000.00</td>\n",
       "      <td>$0.00</td>\n",
       "      <td>P I F</td>\n",
       "      <td>$0.00</td>\n",
       "      <td>$60,000.00</td>\n",
       "      <td>$48,000.00</td>\n",
       "    </tr>\n",
       "    <tr>\n",
       "      <th>1</th>\n",
       "      <td>1000024006</td>\n",
       "      <td>LANDMARK BAR &amp; GRILLE (THE)</td>\n",
       "      <td>NEW PARIS</td>\n",
       "      <td>IN</td>\n",
       "      <td>46526</td>\n",
       "      <td>1ST SOURCE BANK</td>\n",
       "      <td>IN</td>\n",
       "      <td>722410</td>\n",
       "      <td>28-Feb-97</td>\n",
       "      <td>1997</td>\n",
       "      <td>...</td>\n",
       "      <td>N</td>\n",
       "      <td>Y</td>\n",
       "      <td>NaN</td>\n",
       "      <td>31-May-97</td>\n",
       "      <td>$40,000.00</td>\n",
       "      <td>$0.00</td>\n",
       "      <td>P I F</td>\n",
       "      <td>$0.00</td>\n",
       "      <td>$40,000.00</td>\n",
       "      <td>$32,000.00</td>\n",
       "    </tr>\n",
       "    <tr>\n",
       "      <th>2</th>\n",
       "      <td>1000034009</td>\n",
       "      <td>WHITLOCK DDS, TODD M.</td>\n",
       "      <td>BLOOMINGTON</td>\n",
       "      <td>IN</td>\n",
       "      <td>47401</td>\n",
       "      <td>GRANT COUNTY STATE BANK</td>\n",
       "      <td>IN</td>\n",
       "      <td>621210</td>\n",
       "      <td>28-Feb-97</td>\n",
       "      <td>1997</td>\n",
       "      <td>...</td>\n",
       "      <td>N</td>\n",
       "      <td>N</td>\n",
       "      <td>NaN</td>\n",
       "      <td>31-Dec-97</td>\n",
       "      <td>$287,000.00</td>\n",
       "      <td>$0.00</td>\n",
       "      <td>P I F</td>\n",
       "      <td>$0.00</td>\n",
       "      <td>$287,000.00</td>\n",
       "      <td>$215,250.00</td>\n",
       "    </tr>\n",
       "    <tr>\n",
       "      <th>3</th>\n",
       "      <td>1000044001</td>\n",
       "      <td>BIG BUCKS PAWN &amp; JEWELRY, LLC</td>\n",
       "      <td>BROKEN ARROW</td>\n",
       "      <td>OK</td>\n",
       "      <td>74012</td>\n",
       "      <td>1ST NATL BK &amp; TR CO OF BROKEN</td>\n",
       "      <td>OK</td>\n",
       "      <td>0</td>\n",
       "      <td>28-Feb-97</td>\n",
       "      <td>1997</td>\n",
       "      <td>...</td>\n",
       "      <td>N</td>\n",
       "      <td>Y</td>\n",
       "      <td>NaN</td>\n",
       "      <td>30-Jun-97</td>\n",
       "      <td>$35,000.00</td>\n",
       "      <td>$0.00</td>\n",
       "      <td>P I F</td>\n",
       "      <td>$0.00</td>\n",
       "      <td>$35,000.00</td>\n",
       "      <td>$28,000.00</td>\n",
       "    </tr>\n",
       "    <tr>\n",
       "      <th>4</th>\n",
       "      <td>1000054004</td>\n",
       "      <td>ANASTASIA CONFECTIONS, INC.</td>\n",
       "      <td>ORLANDO</td>\n",
       "      <td>FL</td>\n",
       "      <td>32801</td>\n",
       "      <td>FLORIDA BUS. DEVEL CORP</td>\n",
       "      <td>FL</td>\n",
       "      <td>0</td>\n",
       "      <td>28-Feb-97</td>\n",
       "      <td>1997</td>\n",
       "      <td>...</td>\n",
       "      <td>N</td>\n",
       "      <td>N</td>\n",
       "      <td>NaN</td>\n",
       "      <td>14-May-97</td>\n",
       "      <td>$229,000.00</td>\n",
       "      <td>$0.00</td>\n",
       "      <td>P I F</td>\n",
       "      <td>$0.00</td>\n",
       "      <td>$229,000.00</td>\n",
       "      <td>$229,000.00</td>\n",
       "    </tr>\n",
       "  </tbody>\n",
       "</table>\n",
       "<p>5 rows × 27 columns</p>\n",
       "</div>"
      ],
      "text/plain": [
       "   LoanNr_ChkDgt                           Name          City State    Zip  \\\n",
       "0     1000014003                 ABC HOBBYCRAFT    EVANSVILLE    IN  47711   \n",
       "1     1000024006    LANDMARK BAR & GRILLE (THE)     NEW PARIS    IN  46526   \n",
       "2     1000034009          WHITLOCK DDS, TODD M.   BLOOMINGTON    IN  47401   \n",
       "3     1000044001  BIG BUCKS PAWN & JEWELRY, LLC  BROKEN ARROW    OK  74012   \n",
       "4     1000054004    ANASTASIA CONFECTIONS, INC.       ORLANDO    FL  32801   \n",
       "\n",
       "                            Bank BankState   NAICS ApprovalDate ApprovalFY  \\\n",
       "0               FIFTH THIRD BANK        OH  451120    28-Feb-97       1997   \n",
       "1                1ST SOURCE BANK        IN  722410    28-Feb-97       1997   \n",
       "2        GRANT COUNTY STATE BANK        IN  621210    28-Feb-97       1997   \n",
       "3  1ST NATL BK & TR CO OF BROKEN        OK       0    28-Feb-97       1997   \n",
       "4        FLORIDA BUS. DEVEL CORP        FL       0    28-Feb-97       1997   \n",
       "\n",
       "   ...  RevLineCr  LowDoc  ChgOffDate  DisbursementDate  DisbursementGross  \\\n",
       "0  ...          N       Y         NaN         28-Feb-99        $60,000.00    \n",
       "1  ...          N       Y         NaN         31-May-97        $40,000.00    \n",
       "2  ...          N       N         NaN         31-Dec-97       $287,000.00    \n",
       "3  ...          N       Y         NaN         30-Jun-97        $35,000.00    \n",
       "4  ...          N       N         NaN         14-May-97       $229,000.00    \n",
       "\n",
       "   BalanceGross  MIS_Status ChgOffPrinGr        GrAppv      SBA_Appv  \n",
       "0        $0.00        P I F       $0.00    $60,000.00    $48,000.00   \n",
       "1        $0.00        P I F       $0.00    $40,000.00    $32,000.00   \n",
       "2        $0.00        P I F       $0.00   $287,000.00   $215,250.00   \n",
       "3        $0.00        P I F       $0.00    $35,000.00    $28,000.00   \n",
       "4        $0.00        P I F       $0.00   $229,000.00   $229,000.00   \n",
       "\n",
       "[5 rows x 27 columns]"
      ]
     },
     "execution_count": 2,
     "metadata": {},
     "output_type": "execute_result"
    }
   ],
   "source": [
    "df = pd.read_csv('/kaggle/input/should-this-loan-be-approved-or-denied/SBAnational.csv')\n",
    "df.head()"
   ]
  },
  {
   "cell_type": "code",
   "execution_count": 3,
   "id": "7b3059c4",
   "metadata": {
    "execution": {
     "iopub.execute_input": "2024-06-16T16:32:09.594907Z",
     "iopub.status.busy": "2024-06-16T16:32:09.594530Z",
     "iopub.status.idle": "2024-06-16T16:32:09.602570Z",
     "shell.execute_reply": "2024-06-16T16:32:09.601466Z"
    },
    "papermill": {
     "duration": 0.017424,
     "end_time": "2024-06-16T16:32:09.605183",
     "exception": false,
     "start_time": "2024-06-16T16:32:09.587759",
     "status": "completed"
    },
    "tags": []
   },
   "outputs": [],
   "source": [
    "# create dummy variable RealEstate - calculated and deemed important based on the findings of the research paper attached\n",
    "# checked dtype, min and max of Term beforehand\n",
    "df['RealEstate'] = df['Term']>=240"
   ]
  },
  {
   "cell_type": "code",
   "execution_count": 4,
   "id": "c9a1e026",
   "metadata": {
    "execution": {
     "iopub.execute_input": "2024-06-16T16:32:09.617822Z",
     "iopub.status.busy": "2024-06-16T16:32:09.617397Z",
     "iopub.status.idle": "2024-06-16T16:32:13.601645Z",
     "shell.execute_reply": "2024-06-16T16:32:13.600408Z"
    },
    "papermill": {
     "duration": 3.993626,
     "end_time": "2024-06-16T16:32:13.604359",
     "exception": false,
     "start_time": "2024-06-16T16:32:09.610733",
     "status": "completed"
    },
    "tags": []
   },
   "outputs": [],
   "source": [
    "# create dummy variable Recession - calculated and deemed important based on the findings of the research paper attached\n",
    "# checked dtype, min and max of DisbursementDate beforehand\n",
    "df['DisbursementDate'] = pd.to_datetime(df['DisbursementDate'], format='%d-%b-%y')\n",
    "# edit future dates to be in the 90s\n",
    "df['DisbursementDate'] = df['DisbursementDate'].apply(lambda x: x if x.year < 2024 else x.replace(year=x.year-100))\n",
    "df['Recession'] = (df['DisbursementDate'] >= pd.to_datetime('2007-12-01')) & (df['DisbursementDate'] < pd.to_datetime('2009-07-01'))"
   ]
  },
  {
   "cell_type": "code",
   "execution_count": 5,
   "id": "70c616ae",
   "metadata": {
    "execution": {
     "iopub.execute_input": "2024-06-16T16:32:13.616227Z",
     "iopub.status.busy": "2024-06-16T16:32:13.615861Z",
     "iopub.status.idle": "2024-06-16T16:32:13.880451Z",
     "shell.execute_reply": "2024-06-16T16:32:13.879455Z"
    },
    "papermill": {
     "duration": 0.273723,
     "end_time": "2024-06-16T16:32:13.883247",
     "exception": false,
     "start_time": "2024-06-16T16:32:13.609524",
     "status": "completed"
    },
    "tags": []
   },
   "outputs": [],
   "source": [
    "# drop most recent loans according to research paper claims of incomplete data\n",
    "df = df[df['DisbursementDate'] <= '2010-12-31']"
   ]
  },
  {
   "cell_type": "code",
   "execution_count": 6,
   "id": "194f6b58",
   "metadata": {
    "execution": {
     "iopub.execute_input": "2024-06-16T16:32:13.896583Z",
     "iopub.status.busy": "2024-06-16T16:32:13.895353Z",
     "iopub.status.idle": "2024-06-16T16:32:14.060363Z",
     "shell.execute_reply": "2024-06-16T16:32:14.059297Z"
    },
    "papermill": {
     "duration": 0.174253,
     "end_time": "2024-06-16T16:32:14.062898",
     "exception": false,
     "start_time": "2024-06-16T16:32:13.888645",
     "status": "completed"
    },
    "tags": []
   },
   "outputs": [],
   "source": [
    "# create dummy variable Default\n",
    "# print(df['MIS_Status'].value_counts()) # only 2 types of values, good to go\n",
    "df['Default'] = df['MIS_Status']=='CHGOFF' #TODO not good"
   ]
  },
  {
   "cell_type": "code",
   "execution_count": 7,
   "id": "6eaf8c50",
   "metadata": {
    "execution": {
     "iopub.execute_input": "2024-06-16T16:32:14.074966Z",
     "iopub.status.busy": "2024-06-16T16:32:14.074241Z",
     "iopub.status.idle": "2024-06-16T16:32:14.202713Z",
     "shell.execute_reply": "2024-06-16T16:32:14.201684Z"
    },
    "papermill": {
     "duration": 0.137591,
     "end_time": "2024-06-16T16:32:14.205505",
     "exception": false,
     "start_time": "2024-06-16T16:32:14.067914",
     "status": "completed"
    },
    "tags": []
   },
   "outputs": [],
   "source": [
    "#drop irrelevant columns, based on personal notes and study\n",
    "columns_to_drop = ['LowDoc', 'CreateJob', 'RetainedJob', 'FranchiseCode', 'DisbursementDate', 'LoanNr_ChkDgt', 'Name', 'Zip', 'ApprovalDate', 'ApprovalFY', 'NewExist', 'ChgOffDate', 'DisbursementGross', 'BalanceGross', 'ChgOffPrinGr', 'SBA_Appv', 'MIS_Status']\n",
    "df.drop(columns=columns_to_drop, inplace=True)"
   ]
  },
  {
   "cell_type": "code",
   "execution_count": 8,
   "id": "eccd05a6",
   "metadata": {
    "execution": {
     "iopub.execute_input": "2024-06-16T16:32:14.217806Z",
     "iopub.status.busy": "2024-06-16T16:32:14.217084Z",
     "iopub.status.idle": "2024-06-16T16:32:15.132451Z",
     "shell.execute_reply": "2024-06-16T16:32:15.131325Z"
    },
    "papermill": {
     "duration": 0.924645,
     "end_time": "2024-06-16T16:32:15.135385",
     "exception": false,
     "start_time": "2024-06-16T16:32:14.210740",
     "status": "completed"
    },
    "tags": []
   },
   "outputs": [],
   "source": [
    "#clean data and format remaining columns\n",
    "df = df[df['NAICS'] != 0]\n",
    "df['NAICS'] = df['NAICS'].astype(str).str[:2].astype(int)\n",
    "df = df[df['RevLineCr'].isin(['N', 'Y'])]"
   ]
  },
  {
   "cell_type": "code",
   "execution_count": 9,
   "id": "d98b1455",
   "metadata": {
    "execution": {
     "iopub.execute_input": "2024-06-16T16:32:15.147089Z",
     "iopub.status.busy": "2024-06-16T16:32:15.146722Z",
     "iopub.status.idle": "2024-06-16T16:32:15.508743Z",
     "shell.execute_reply": "2024-06-16T16:32:15.507666Z"
    },
    "papermill": {
     "duration": 0.370765,
     "end_time": "2024-06-16T16:32:15.511249",
     "exception": false,
     "start_time": "2024-06-16T16:32:15.140484",
     "status": "completed"
    },
    "tags": []
   },
   "outputs": [
    {
     "data": {
      "text/html": [
       "<div>\n",
       "<style scoped>\n",
       "    .dataframe tbody tr th:only-of-type {\n",
       "        vertical-align: middle;\n",
       "    }\n",
       "\n",
       "    .dataframe tbody tr th {\n",
       "        vertical-align: top;\n",
       "    }\n",
       "\n",
       "    .dataframe thead th {\n",
       "        text-align: right;\n",
       "    }\n",
       "</style>\n",
       "<table border=\"1\" class=\"dataframe\">\n",
       "  <thead>\n",
       "    <tr style=\"text-align: right;\">\n",
       "      <th></th>\n",
       "      <th>City</th>\n",
       "      <th>State</th>\n",
       "      <th>Bank</th>\n",
       "      <th>BankState</th>\n",
       "      <th>NAICS</th>\n",
       "      <th>Term</th>\n",
       "      <th>NoEmp</th>\n",
       "      <th>UrbanRural</th>\n",
       "      <th>RevLineCr</th>\n",
       "      <th>GrAppv</th>\n",
       "      <th>RealEstate</th>\n",
       "      <th>Recession</th>\n",
       "      <th>Default</th>\n",
       "    </tr>\n",
       "  </thead>\n",
       "  <tbody>\n",
       "    <tr>\n",
       "      <th>0</th>\n",
       "      <td>EVANSVILLE</td>\n",
       "      <td>IN</td>\n",
       "      <td>FIFTH THIRD BANK</td>\n",
       "      <td>OH</td>\n",
       "      <td>45</td>\n",
       "      <td>84</td>\n",
       "      <td>4</td>\n",
       "      <td>0</td>\n",
       "      <td>N</td>\n",
       "      <td>$60,000.00</td>\n",
       "      <td>False</td>\n",
       "      <td>False</td>\n",
       "      <td>False</td>\n",
       "    </tr>\n",
       "    <tr>\n",
       "      <th>1</th>\n",
       "      <td>NEW PARIS</td>\n",
       "      <td>IN</td>\n",
       "      <td>1ST SOURCE BANK</td>\n",
       "      <td>IN</td>\n",
       "      <td>72</td>\n",
       "      <td>60</td>\n",
       "      <td>2</td>\n",
       "      <td>0</td>\n",
       "      <td>N</td>\n",
       "      <td>$40,000.00</td>\n",
       "      <td>False</td>\n",
       "      <td>False</td>\n",
       "      <td>False</td>\n",
       "    </tr>\n",
       "    <tr>\n",
       "      <th>2</th>\n",
       "      <td>BLOOMINGTON</td>\n",
       "      <td>IN</td>\n",
       "      <td>GRANT COUNTY STATE BANK</td>\n",
       "      <td>IN</td>\n",
       "      <td>62</td>\n",
       "      <td>180</td>\n",
       "      <td>7</td>\n",
       "      <td>0</td>\n",
       "      <td>N</td>\n",
       "      <td>$287,000.00</td>\n",
       "      <td>False</td>\n",
       "      <td>False</td>\n",
       "      <td>False</td>\n",
       "    </tr>\n",
       "    <tr>\n",
       "      <th>5</th>\n",
       "      <td>PLAINVILLE</td>\n",
       "      <td>CT</td>\n",
       "      <td>TD BANK, NATIONAL ASSOCIATION</td>\n",
       "      <td>DE</td>\n",
       "      <td>33</td>\n",
       "      <td>120</td>\n",
       "      <td>19</td>\n",
       "      <td>0</td>\n",
       "      <td>N</td>\n",
       "      <td>$517,000.00</td>\n",
       "      <td>False</td>\n",
       "      <td>False</td>\n",
       "      <td>False</td>\n",
       "    </tr>\n",
       "    <tr>\n",
       "      <th>7</th>\n",
       "      <td>SUMMERFIELD</td>\n",
       "      <td>FL</td>\n",
       "      <td>REGIONS BANK</td>\n",
       "      <td>AL</td>\n",
       "      <td>81</td>\n",
       "      <td>84</td>\n",
       "      <td>1</td>\n",
       "      <td>0</td>\n",
       "      <td>N</td>\n",
       "      <td>$45,000.00</td>\n",
       "      <td>False</td>\n",
       "      <td>False</td>\n",
       "      <td>False</td>\n",
       "    </tr>\n",
       "  </tbody>\n",
       "</table>\n",
       "</div>"
      ],
      "text/plain": [
       "          City State                           Bank BankState  NAICS  Term  \\\n",
       "0   EVANSVILLE    IN               FIFTH THIRD BANK        OH     45    84   \n",
       "1    NEW PARIS    IN                1ST SOURCE BANK        IN     72    60   \n",
       "2  BLOOMINGTON    IN        GRANT COUNTY STATE BANK        IN     62   180   \n",
       "5   PLAINVILLE    CT  TD BANK, NATIONAL ASSOCIATION        DE     33   120   \n",
       "7  SUMMERFIELD    FL                   REGIONS BANK        AL     81    84   \n",
       "\n",
       "   NoEmp  UrbanRural RevLineCr        GrAppv  RealEstate  Recession  Default  \n",
       "0      4           0         N   $60,000.00        False      False    False  \n",
       "1      2           0         N   $40,000.00        False      False    False  \n",
       "2      7           0         N  $287,000.00        False      False    False  \n",
       "5     19           0         N  $517,000.00        False      False    False  \n",
       "7      1           0         N   $45,000.00        False      False    False  "
      ]
     },
     "execution_count": 9,
     "metadata": {},
     "output_type": "execute_result"
    }
   ],
   "source": [
    "df.dropna(inplace=True)\n",
    "df.head()"
   ]
  },
  {
   "cell_type": "code",
   "execution_count": 10,
   "id": "867eda64",
   "metadata": {
    "_kg_hide-input": false,
    "execution": {
     "iopub.execute_input": "2024-06-16T16:32:15.524288Z",
     "iopub.status.busy": "2024-06-16T16:32:15.523290Z",
     "iopub.status.idle": "2024-06-16T16:33:26.694557Z",
     "shell.execute_reply": "2024-06-16T16:33:26.693475Z"
    },
    "papermill": {
     "duration": 71.185835,
     "end_time": "2024-06-16T16:33:26.702484",
     "exception": false,
     "start_time": "2024-06-16T16:32:15.516649",
     "status": "completed"
    },
    "tags": []
   },
   "outputs": [
    {
     "name": "stdout",
     "output_type": "stream",
     "text": [
      "Confusion Matrix:\n",
      "[[65784  3358]\n",
      " [ 7403 12345]]\n",
      "\n",
      "Classification Report:\n",
      "              precision    recall  f1-score   support\n",
      "\n",
      "       False       0.90      0.95      0.92     69142\n",
      "        True       0.79      0.63      0.70     19748\n",
      "\n",
      "    accuracy                           0.88     88890\n",
      "   macro avg       0.84      0.79      0.81     88890\n",
      "weighted avg       0.87      0.88      0.87     88890\n",
      "\n",
      "\n",
      "Accuracy Score: 0.8789402632467094\n"
     ]
    }
   ],
   "source": [
    "import pandas as pd\n",
    "from sklearn.model_selection import train_test_split\n",
    "from sklearn.preprocessing import StandardScaler, OneHotEncoder\n",
    "from sklearn.compose import ColumnTransformer\n",
    "from sklearn.pipeline import Pipeline\n",
    "from sklearn.linear_model import LogisticRegression\n",
    "from sklearn.metrics import classification_report, confusion_matrix, accuracy_score\n",
    "\n",
    "X = df.drop(columns=['Default'])\n",
    "y = df['Default']\n",
    "\n",
    "X_train, X_test, y_train, y_test = train_test_split(X, y, test_size=0.2, random_state=42)\n",
    "\n",
    "numeric_features = X_train.select_dtypes(include=['int64', 'float64']).columns\n",
    "numeric_transformer = Pipeline(steps=[('scaler', StandardScaler())])\n",
    "\n",
    "categorical_features = X_train.select_dtypes(include=['object']).columns\n",
    "categorical_transformer = Pipeline(steps=[('onehot', OneHotEncoder(handle_unknown='ignore'))])\n",
    "\n",
    "preprocessor = ColumnTransformer(\n",
    "    transformers=[\n",
    "        ('num', numeric_transformer, numeric_features),\n",
    "        ('cat', categorical_transformer, categorical_features)\n",
    "    ])\n",
    "\n",
    "pipeline = Pipeline(steps=[('preprocessor', preprocessor),\n",
    "                           ('classifier', LogisticRegression(max_iter=1000))])\n",
    "\n",
    "pipeline.fit(X_train, y_train)\n",
    "\n",
    "y_pred = pipeline.predict(X_test)\n",
    "\n",
    "print(\"Confusion Matrix:\")\n",
    "print(confusion_matrix(y_test, y_pred))\n",
    "print(\"\\nClassification Report:\")\n",
    "print(classification_report(y_test, y_pred))\n",
    "print(\"\\nAccuracy Score:\", accuracy_score(y_test, y_pred))"
   ]
  }
 ],
 "metadata": {
  "kaggle": {
   "accelerator": "none",
   "dataSources": [
    {
     "datasetId": 558648,
     "sourceId": 1018837,
     "sourceType": "datasetVersion"
    }
   ],
   "dockerImageVersionId": 30715,
   "isGpuEnabled": false,
   "isInternetEnabled": false,
   "language": "python",
   "sourceType": "notebook"
  },
  "kernelspec": {
   "display_name": "Python 3",
   "language": "python",
   "name": "python3"
  },
  "language_info": {
   "codemirror_mode": {
    "name": "ipython",
    "version": 3
   },
   "file_extension": ".py",
   "mimetype": "text/x-python",
   "name": "python",
   "nbconvert_exporter": "python",
   "pygments_lexer": "ipython3",
   "version": "3.10.13"
  },
  "papermill": {
   "default_parameters": {},
   "duration": 89.692065,
   "end_time": "2024-06-16T16:33:27.532623",
   "environment_variables": {},
   "exception": null,
   "input_path": "__notebook__.ipynb",
   "output_path": "__notebook__.ipynb",
   "parameters": {},
   "start_time": "2024-06-16T16:31:57.840558",
   "version": "2.5.0"
  }
 },
 "nbformat": 4,
 "nbformat_minor": 5
}
